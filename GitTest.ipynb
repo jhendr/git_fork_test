{
 "cells": [
  {
   "cell_type": "markdown",
   "id": "royal-japanese",
   "metadata": {},
   "source": [
    "## This notebook has no coding purpose.\n",
    "\n",
    "Rather, it is simply a file for demonstrating your usage of git."
   ]
  },
  {
   "cell_type": "markdown",
   "id": "federal-medline",
   "metadata": {},
   "source": [
    "## Change the variable below to your name."
   ]
  },
  {
   "cell_type": "code",
   "execution_count": 1,
   "id": "reserved-reunion",
   "metadata": {},
   "outputs": [
    {
     "name": "stdout",
     "output_type": "stream",
     "text": [
      "My name is Mark Hendricks.\n"
     ]
    }
   ],
   "source": [
    "name = \"Mark Hendricks\"\n",
    "print(f'My name is {name}.')"
   ]
  },
  {
   "cell_type": "markdown",
   "id": "sixth-chain",
   "metadata": {},
   "source": [
    "## Create an account on GitHub.com\n",
    "\n",
    "The documentation there should make this very easy.\n",
    "\n",
    "## Make sure you have git installed on your computer.\n",
    "See the resources on Canvas, in the \"Learning Git and Using GitHub\" page."
   ]
  },
  {
   "cell_type": "markdown",
   "id": "public-playing",
   "metadata": {},
   "source": [
    "# Create a forked repository\n",
    "Rather than making changes directly to this repository, you will create a \"fork\" on Github that creates a copy of the repo in your own account. To do this, go to the main repo page in Github [here](https://github.com/MarkHendricks/drw-dataanalysis-2021) and click the \"fork\" button in the upper right corner."
   ]
  },
  {
   "cell_type": "markdown",
   "id": "documented-candle",
   "metadata": {},
   "source": [
    "# Get a local copy of the repo\n",
    "Now you have a forked copy in Github, but to make changes you will want a copy of the repository on your local machine. Downloading a repo is known as \"cloning\". On the command line, navigate to where you would like to download the repo, and execute `git clone REPO_ADDRESS`, where REPO_ADDRESS can be obtained by clicking the green \"Code\" button on the main page of your forked Github page and copying the address. It should look something like \"https://github.com/USERNAME/REPO_NAME.git\""
   ]
  },
  {
   "cell_type": "markdown",
   "id": "invisible-kruger",
   "metadata": {},
   "source": [
    "## Update your changes to the file locally\n",
    "Now that you have both a forked copy on Github and a local copy, update the notebook with your saved change (your name).\n",
    "1. Navigate into the newly cloned directory.\n",
    "1. Create a new branch of the directory. Do so with `git branch <branch_name>`. Let's each name our branch our own name, so that in the command above, you will replace `<branch_name>` should be your <firstname_lastname> (all one word!)\n",
    "1. Checkout the new branch `git checkout <branch_name>`. This points your git at the new branch, so that your coming changes will go there.\n",
    "1. Make sure you have already changed this file by changing your name in the previous cell and saved it.\n",
    "1. Enter `git status`. Do you see \"GitTest.ipynb\" staged for a change? If not, use `git add notebooks/GitTest.ipynb`.\n",
    "1. Commit the changes to the repo using `git commit -m \"Updating my name\"`.\n",
    "\n",
    "At this point you have modified your local git repository with the newly commited changes, but these changes do not exist in either of the original or forked repos on Github."
   ]
  },
  {
   "cell_type": "markdown",
   "id": "failing-decrease",
   "metadata": {},
   "source": [
    "## Push the changes to your fork on Github\n",
    "To sync the changes back to your fork on Github, you need to do a \"push\". This means pushes local changes back to a remote repo. You can do this by executing `git push -u origin YOUR_BRANCH_NAME`. After the first time you would only need `git push`, but because we have not pushed anything before, we need to tell git where to push it to. `origin` is the default name for the place you originally cloned from. You need to replace `YOUR_BRANCH_NAME` with the branch name you have chosen in order for the local and remote branch names to match."
   ]
  },
  {
   "cell_type": "markdown",
   "id": "quiet-butler",
   "metadata": {},
   "source": [
    "# Send the changes back to the original Github repo\n",
    "Now your changes are present locally and on your fork. You can then suggest your changes back to the original repo via a \"pull request\". If accepted by the owner, your changes would become part of the original repository. (I will not adopt the change, obviously, but I'll be able to see you made the change.)\n",
    "\n",
    "Note that because this is a public repo, **anyone** will be able to see the file you changed.\n",
    "\n",
    "To create the pull request, go the webpage for your fork and click \"Pull Request\" near the top of the page. Then select that you want to make a request from your new branch on your fork to the main branch on the original repo and create the request."
   ]
  }
 ],
 "metadata": {
  "kernelspec": {
   "display_name": "Python 3",
   "language": "python",
   "name": "python3"
  },
  "language_info": {
   "codemirror_mode": {
    "name": "ipython",
    "version": 3
   },
   "file_extension": ".py",
   "mimetype": "text/x-python",
   "name": "python",
   "nbconvert_exporter": "python",
   "pygments_lexer": "ipython3",
   "version": "3.8.2"
  }
 },
 "nbformat": 4,
 "nbformat_minor": 5
}
