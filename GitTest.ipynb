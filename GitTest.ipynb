{
 "cells": [
  {
   "cell_type": "markdown",
   "id": "4be9ed80",
   "metadata": {},
   "source": [
    "## This notebook has no coding purpose.\n",
    "\n",
    "Rather, it is simply a file for demonstrating your usage of git.\n",
    "\n",
    "## Change the variable below to your name."
   ]
  },
  {
   "cell_type": "code",
   "execution_count": 2,
   "id": "3795ff9c",
   "metadata": {},
   "outputs": [
    {
     "name": "stdout",
     "output_type": "stream",
     "text": [
      "My name is Mark Hendricks.\n"
     ]
    }
   ],
   "source": [
    "print(f'My name is Mark Hendricks.')"
   ]
  },
  {
   "cell_type": "markdown",
   "id": "4acb0992",
   "metadata": {},
   "source": [
    "## Create an account on GitHub.com\n",
    "\n",
    "The documentation there should make this very easy.\n",
    "\n",
    "## Make sure you have git installed on your computer.\n",
    "See the resources on Canvas, in the \"Learning Git and Using GitHub\" page."
   ]
  },
  {
   "cell_type": "markdown",
   "id": "cc02f255",
   "metadata": {},
   "source": [
    "## Update your changes to the file.\n",
    "\n",
    "Save the file on your computer. Then in the command line...\n",
    "1. Create your own branch of the directory. Do so with `git branch <branch_name>`. Let's each name our branch our own name, so that in the command above, you will replace `<branch_name>` should be your <firstname_lastname> (all one word!)\n",
    "2. Checkout the new branch `git checkout <branch_name>`. This points your git at the new branch, so that your coming changes will go there.\n",
    "3. Make sure you have already changed this file, by changing your name in the previous cell.\n",
    "4. Enter `git status`. Do you see \"GitTest.ipynb\" staged for a change? If not, use `git add notebooks/GitTest.ipynb`.\n",
    "5. Save the changes to the directory using `git commit -m \"Updating my name\"`.\n",
    "6. Send a \"pull request\", which means you send your new branch to the GitHub repo, requesting that it be adopted into the main branch. (I will not adopt the change, obviously, but I'll be able to see you made the change.)\n",
    "\n",
    "Note that because this is a public repo, **anyone** will be able to see the file you changed."
   ]
  }
 ],
 "metadata": {
  "kernelspec": {
   "display_name": "Python 3",
   "language": "python",
   "name": "python3"
  },
  "language_info": {
   "codemirror_mode": {
    "name": "ipython",
    "version": 3
   },
   "file_extension": ".py",
   "mimetype": "text/x-python",
   "name": "python",
   "nbconvert_exporter": "python",
   "pygments_lexer": "ipython3",
   "version": "3.8.2"
  }
 },
 "nbformat": 4,
 "nbformat_minor": 5
}
